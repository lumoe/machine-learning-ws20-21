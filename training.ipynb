{
 "cells": [
  {
   "cell_type": "code",
   "execution_count": 1,
   "metadata": {},
   "outputs": [],
   "source": [
    "from utils import *"
   ]
  },
  {
   "cell_type": "markdown",
   "metadata": {},
   "source": [
    "## Train one player against a deterministic really bad player"
   ]
  },
  {
   "cell_type": "code",
   "execution_count": 2,
   "metadata": {},
   "outputs": [],
   "source": [
    "num_train_games = 10000\n",
    "num_test_games = 5000\n",
    "value_function_a = \"random\"\n",
    "value_function_b = \"random\"\n",
    "alpha_a = 1\n",
    "alpha_b = 0\n",
    "alpha_decay_a = num_train_games\n",
    "alpha_decay_b = 0\n",
    "epsilon_a = 0.1\n",
    "epsilon_b = 0\n",
    "epsilon_decay_a = num_train_games\n",
    "epsilon_decay_b = 0\n",
    "name_value_function_a = f\"against_dummy_epsilon_01\"\n",
    "name_value_function_b = \"b\"\n",
    "moving_average = 50"
   ]
  },
  {
   "cell_type": "code",
   "execution_count": 3,
   "metadata": {},
   "outputs": [
    {
     "name": "stdout",
     "output_type": "stream",
     "text": [
      "Training:\n",
      "game 10000/10000\r"
     ]
    },
    {
     "data": {
      "image/png": "[encoded data removed]",
      "text/plain": [
       "<Figure size 432x288 with 1 Axes>"
      ]
     },
     "metadata": {
      "needs_background": "light"
     },
     "output_type": "display_data"
    },
    {
     "name": "stdout",
     "output_type": "stream",
     "text": [
      "\n",
      "Testing:\n",
      "game 5000/5000\r"
     ]
    },
    {
     "data": {
      "image/png": "[encoded data removed]",
      "text/plain": [
       "<Figure size 432x288 with 1 Axes>"
      ]
     },
     "metadata": {
      "needs_background": "light"
     },
     "output_type": "display_data"
    }
   ],
   "source": [
    "stats = train_test_session(num_train_games=num_train_games,\n",
    "                            num_test_games=num_test_games,\n",
    "                            value_function_a=value_function_a,\n",
    "                            value_function_b=value_function_b,\n",
    "                            alpha_a=alpha_a,\n",
    "                            alpha_b=alpha_b,\n",
    "                            alpha_decay_a=alpha_decay_a,\n",
    "                            alpha_decay_b=alpha_decay_b,\n",
    "                            epsilon_a=epsilon_a,\n",
    "                            epsilon_b=epsilon_b,\n",
    "                            epsilon_decay_a=epsilon_decay_a,\n",
    "                            epsilon_decay_b=epsilon_decay_b,\n",
    "                            name_value_function_a=name_value_function_a,\n",
    "                            name_value_function_b=name_value_function_b,\n",
    "                            moving_average=moving_average\n",
    "                            )"
   ]
  },
  {
   "cell_type": "markdown",
   "metadata": {},
   "source": [
    "## Train one player several times against a deterministic really bad player"
   ]
  },
  {
   "cell_type": "code",
   "execution_count": 4,
   "metadata": {},
   "outputs": [],
   "source": [
    "num_experiments = 5"
   ]
  },
  {
   "cell_type": "code",
   "execution_count": null,
   "metadata": {},
   "outputs": [
    {
     "name": "stdout",
     "output_type": "stream",
     "text": [
      "\n",
      "Experiment 1/5\n",
      "Training:\n",
      "game 3840/10000\r"
     ]
    }
   ],
   "source": [
    "results = average_train_test_sessions(num_experiments=num_experiments,\n",
    "                                      num_train_games=num_train_games,\n",
    "                                      num_test_games=num_test_games,\n",
    "                                      value_function_a=value_function_a,\n",
    "                                      value_function_b=value_function_b,\n",
    "                                      alpha_a=alpha_a,\n",
    "                                      alpha_b=alpha_b,\n",
    "                                      alpha_decay_a=alpha_decay_a,\n",
    "                                      alpha_decay_b=alpha_decay_b,\n",
    "                                      epsilon_a=epsilon_a,\n",
    "                                      epsilon_b=epsilon_b,\n",
    "                                      epsilon_decay_a=epsilon_decay_a,\n",
    "                                      epsilon_decay_b=epsilon_decay_b,\n",
    "                                      moving_average=moving_average)"
   ]
  },
  {
   "cell_type": "markdown",
   "metadata": {},
   "source": [
    "## Analyze the influence of the initial epsilon value"
   ]
  },
  {
   "cell_type": "code",
   "execution_count": null,
   "metadata": {},
   "outputs": [],
   "source": [
    "num_experiments = 5\n",
    "num_test_games = 0\n",
    "\n",
    "\n",
    "epsilon_a_1 = 0.1\n",
    "epsilon_a_2 = 0.9"
   ]
  },
  {
   "cell_type": "code",
   "execution_count": null,
   "metadata": {},
   "outputs": [],
   "source": [
    "results_1 = average_train_test_sessions(num_experiments=num_experiments,\n",
    "                                        num_train_games=num_train_games,\n",
    "                                        num_test_games=num_test_games,\n",
    "                                        value_function_a=value_function_a,\n",
    "                                        value_function_b=value_function_b,\n",
    "                                        alpha_a=alpha_a,\n",
    "                                        alpha_b=alpha_b,\n",
    "                                        alpha_decay_a=alpha_decay_a,\n",
    "                                        alpha_decay_b=alpha_decay_b,\n",
    "                                        epsilon_a=epsilon_a_1,\n",
    "                                        epsilon_b=epsilon_b,\n",
    "                                        epsilon_decay_a=epsilon_decay_a,\n",
    "                                        epsilon_decay_b=epsilon_decay_b,\n",
    "                                        moving_average=moving_average,\n",
    "                                        show_plot=False)\n",
    "results_1[\"train\"][\"winrate_a\"]['epsilon_1'] = results_1[\"train\"][\"winrate_a\"]['avg_train_winrate_a']\n",
    "\n",
    "results_2 = average_train_test_sessions(num_experiments=num_experiments,\n",
    "                                        num_train_games=num_train_games,\n",
    "                                        num_test_games=num_test_games,\n",
    "                                        value_function_a=value_function_a,\n",
    "                                        value_function_b=value_function_b,\n",
    "                                        alpha_a=alpha_a,\n",
    "                                        alpha_b=alpha_b,\n",
    "                                        alpha_decay_a=alpha_decay_a,\n",
    "                                        alpha_decay_b=alpha_decay_b,\n",
    "                                        epsilon_a=epsilon_a_2,\n",
    "                                        epsilon_b=epsilon_b,\n",
    "                                        epsilon_decay_a=epsilon_decay_a,\n",
    "                                        epsilon_decay_b=epsilon_decay_b,\n",
    "                                        moving_average=moving_average,\n",
    "                                        show_plot=False)\n",
    "results_2[\"train\"][\"winrate_a\"]['epsilon_2'] = results_2[\"train\"][\"winrate_a\"]['avg_train_winrate_a']\n",
    "\n",
    "fig, ax = plt.subplots()\n",
    "ax.plot(results_1[\"train\"][\"winrate_a\"]['epsilon_1'], label=f'epsilon = {epsilon_a_1}')\n",
    "ax.plot(results_2[\"train\"][\"winrate_a\"]['epsilon_2'], label=f'epsilon = {epsilon_a_2}')\n",
    "ax.yaxis.set_major_formatter(mtick.PercentFormatter(1.0, decimals=0))\n",
    "ax.set_xlabel(\"games\")\n",
    "ax.set_ylabel(\"winrate\")\n",
    "ax.legend()"
   ]
  },
  {
   "cell_type": "markdown",
   "metadata": {},
   "source": [
    "## Train player vs player"
   ]
  },
  {
   "cell_type": "code",
   "execution_count": null,
   "metadata": {},
   "outputs": [],
   "source": [
    "num_train_games = 30000\n",
    "num_test_games = 5000\n",
    "value_function_a = \"random\"\n",
    "value_function_b = \"random\"\n",
    "alpha_a = 1\n",
    "alpha_b = 1\n",
    "alpha_decay_a = num_train_games\n",
    "alpha_decay_b = num_train_games\n",
    "epsilon_a = 0.1\n",
    "epsilon_b = 0.1\n",
    "epsilon_decay_a = num_train_games\n",
    "epsilon_decay_b = num_train_games\n",
    "name_value_function_a = \"a_epsilon_01\"\n",
    "name_value_function_b = \"b_epsilon_01\"\n",
    "moving_average = 300"
   ]
  },
  {
   "cell_type": "code",
   "execution_count": null,
   "metadata": {},
   "outputs": [],
   "source": [
    "stats = train_test_session(num_train_games=num_train_games,\n",
    "                            num_test_games=num_test_games,\n",
    "                            value_function_a=value_function_a,\n",
    "                            value_function_b=value_function_b,\n",
    "                            alpha_a=alpha_a,\n",
    "                            alpha_b=alpha_b,\n",
    "                            alpha_decay_a=alpha_decay_a,\n",
    "                            alpha_decay_b=alpha_decay_b,\n",
    "                            epsilon_a=epsilon_a,\n",
    "                            epsilon_b=epsilon_b,\n",
    "                            epsilon_decay_a=epsilon_decay_a,\n",
    "                            epsilon_decay_b=epsilon_decay_b,\n",
    "                            name_value_function_a=name_value_function_a,\n",
    "                            name_value_function_b=name_value_function_b,\n",
    "                            moving_average=moving_average\n",
    "                            )"
   ]
  },
  {
   "cell_type": "markdown",
   "metadata": {},
   "source": [
    "## Train player vs player and average"
   ]
  },
  {
   "cell_type": "code",
   "execution_count": null,
   "metadata": {},
   "outputs": [],
   "source": [
    "num_experiments = 5"
   ]
  },
  {
   "cell_type": "code",
   "execution_count": null,
   "metadata": {},
   "outputs": [],
   "source": [
    "results = average_train_test_sessions(num_experiments=num_experiments,\n",
    "                                      num_train_games=num_train_games,\n",
    "                                      num_test_games=num_test_games,\n",
    "                                      value_function_a=value_function_a,\n",
    "                                      value_function_b=value_function_b,\n",
    "                                      alpha_a=alpha_a,\n",
    "                                      alpha_b=alpha_b,\n",
    "                                      alpha_decay_a=alpha_decay_a,\n",
    "                                      alpha_decay_b=alpha_decay_b,\n",
    "                                      epsilon_a=epsilon_a,\n",
    "                                      epsilon_b=epsilon_b,\n",
    "                                      epsilon_decay_a=epsilon_decay_a,\n",
    "                                      epsilon_decay_b=epsilon_decay_b,\n",
    "                                      moving_average=moving_average)"
   ]
  },
  {
   "cell_type": "markdown",
   "metadata": {},
   "source": [
    "## Analyze the influence of the initial epsilon value"
   ]
  },
  {
   "cell_type": "markdown",
   "metadata": {},
   "source": [
    "1. vary initial epsilon of both players"
   ]
  },
  {
   "cell_type": "code",
   "execution_count": null,
   "metadata": {},
   "outputs": [],
   "source": [
    "num_experiments = 5\n",
    "num_test_games = 0\n",
    "\n",
    "epsilon_1 = 0.1\n",
    "epsilon_2 = 0.9"
   ]
  },
  {
   "cell_type": "code",
   "execution_count": null,
   "metadata": {},
   "outputs": [],
   "source": [
    "results_1 = average_train_test_sessions(num_experiments=num_experiments,\n",
    "                                        num_train_games=num_train_games,\n",
    "                                        num_test_games=num_test_games,\n",
    "                                        value_function_a=value_function_a,\n",
    "                                        value_function_b=value_function_b,\n",
    "                                        alpha_a=alpha_a,\n",
    "                                        alpha_b=alpha_b,\n",
    "                                        alpha_decay_a=alpha_decay_a,\n",
    "                                        alpha_decay_b=alpha_decay_b,\n",
    "                                        epsilon_a=epsilon_1,\n",
    "                                        epsilon_b=epsilon_1,\n",
    "                                        epsilon_decay_a=epsilon_decay_a,\n",
    "                                        epsilon_decay_b=epsilon_decay_b,\n",
    "                                        moving_average=moving_average,\n",
    "                                        show_plot=False)\n",
    "results_2 = average_train_test_sessions(num_experiments=num_experiments,\n",
    "                                        num_train_games=num_train_games,\n",
    "                                        num_test_games=num_test_games,\n",
    "                                        value_function_a=value_function_a,\n",
    "                                        value_function_b=value_function_b,\n",
    "                                        alpha_a=alpha_a,\n",
    "                                        alpha_b=alpha_b,\n",
    "                                        alpha_decay_a=alpha_decay_a,\n",
    "                                        alpha_decay_b=alpha_decay_b,\n",
    "                                        epsilon_a=epsilon_2,\n",
    "                                        epsilon_b=epsilon_2,\n",
    "                                        epsilon_decay_a=epsilon_decay_a,\n",
    "                                        epsilon_decay_b=epsilon_decay_b,\n",
    "                                        moving_average=moving_average,\n",
    "                                        show_plot=False)\n",
    "\n",
    "results_1[\"train\"][\"winrate_a\"]['epsilon_1'] = results_1[\"train\"][\"winrate_a\"]['avg_train_winrate_a']\n",
    "results_2[\"train\"][\"winrate_a\"]['epsilon_2'] = results_2[\"train\"][\"winrate_a\"]['avg_train_winrate_a']\n",
    "\n",
    "fig, ax = plt.subplots()\n",
    "ax.plot(results_1[\"train\"][\"winrate_a\"]['epsilon_1'], label=f'epsilon = {epsilon_1}')\n",
    "ax.plot(results_2[\"train\"][\"winrate_a\"]['epsilon_2'], label=f'epsilon = {epsilon_2}')\n",
    "ax.yaxis.set_major_formatter(mtick.PercentFormatter(1.0, decimals=0))\n",
    "ax.set_xlabel(\"games\")\n",
    "ax.set_ylabel(\"winrate\")\n",
    "ax.legend()"
   ]
  },
  {
   "cell_type": "markdown",
   "metadata": {},
   "source": [
    "2. keep initital epsilon of players b same and vary initial epsilon of players a"
   ]
  },
  {
   "cell_type": "code",
   "execution_count": null,
   "metadata": {},
   "outputs": [],
   "source": [
    "num_experiments = 5\n",
    "num_test_games = 0\n",
    "\n",
    "epsilon_a_1 = 0.1\n",
    "epsilon_a_2 = 0.9\n",
    "epsilon_b = 0.1"
   ]
  },
  {
   "cell_type": "code",
   "execution_count": null,
   "metadata": {},
   "outputs": [],
   "source": [
    "results_1 = average_train_test_sessions(num_experiments=num_experiments,\n",
    "                                        num_train_games=num_train_games,\n",
    "                                        num_test_games=num_test_games,\n",
    "                                        value_function_a=value_function_a,\n",
    "                                        value_function_b=value_function_b,\n",
    "                                        alpha_a=alpha_a,\n",
    "                                        alpha_b=alpha_b,\n",
    "                                        alpha_decay_a=alpha_decay_a,\n",
    "                                        alpha_decay_b=alpha_decay_b,\n",
    "                                        epsilon_a=epsilon_a_1,\n",
    "                                        epsilon_b=epsilon_b,\n",
    "                                        epsilon_decay_a=epsilon_decay_a,\n",
    "                                        epsilon_decay_b=epsilon_decay_b,\n",
    "                                        moving_average=moving_average,\n",
    "                                        show_plot=False)\n",
    "results_2 = average_train_test_sessions(num_experiments=num_experiments,\n",
    "                                        num_train_games=num_train_games,\n",
    "                                        num_test_games=num_test_games,\n",
    "                                        value_function_a=value_function_a,\n",
    "                                        value_function_b=value_function_b,\n",
    "                                        alpha_a=alpha_a,\n",
    "                                        alpha_b=alpha_b,\n",
    "                                        alpha_decay_a=alpha_decay_a,\n",
    "                                        alpha_decay_b=alpha_decay_b,\n",
    "                                        epsilon_a=epsilon_a_2,\n",
    "                                        epsilon_b=epsilon_b,\n",
    "                                        epsilon_decay_a=epsilon_decay_a,\n",
    "                                        epsilon_decay_b=epsilon_decay_b,\n",
    "                                        moving_average=moving_average,\n",
    "                                        show_plot=False)\n",
    "\n",
    "results_1[\"train\"][\"winrate_a\"]['winrate_a_epsilon1'] = results_1[\"train\"][\"winrate_a\"]['avg_train_winrate_a']\n",
    "results_1[\"train\"][\"winrate_b\"]['winrate_b_epsilon1'] = results_1[\"train\"][\"winrate_b\"]['avg_train_winrate_b']\n",
    "results_2[\"train\"][\"winrate_a\"]['winrate_a_epsilon2'] = results_2[\"train\"][\"winrate_a\"]['avg_train_winrate_a']\n",
    "results_2[\"train\"][\"winrate_b\"]['winrate_b_epsilon2'] = results_2[\"train\"][\"winrate_b\"]['avg_train_winrate_b']\n",
    "\n",
    "fig, ax = plt.subplots()\n",
    "ax.plot(results_1[\"train\"][\"winrate_a\"]['winrate_a_epsilon1'], label=f'player a, epsilon = {epsilon_a_1}')\n",
    "ax.plot(results_1[\"train\"][\"winrate_b\"]['winrate_b_epsilon1'], label=f'player b vs. a({epsilon_a_1})')\n",
    "ax.plot(results_2[\"train\"][\"winrate_a\"]['winrate_a_epsilon2'], label=f'player a, epsilon = {epsilon_a_2}')\n",
    "ax.plot(results_2[\"train\"][\"winrate_b\"]['winrate_b_epsilon2'], label=f'player b vs. a({epsilon_a_2})')\n",
    "ax.yaxis.set_major_formatter(mtick.PercentFormatter(1.0, decimals=0))\n",
    "ax.set_xlabel(\"games\")\n",
    "ax.set_ylabel(\"winrate\")\n",
    "ax.legend()"
   ]
  },
  {
   "cell_type": "markdown",
   "metadata": {},
   "source": [
    "## Analyze how well a trained player generalizes to unseen trained players"
   ]
  },
  {
   "cell_type": "code",
   "execution_count": null,
   "metadata": {},
   "outputs": [],
   "source": [
    "num_train_games = 30000\n",
    "num_test_games = 0\n",
    "value_function_a = \"random\"\n",
    "value_function_b = \"random\"\n",
    "alpha_a = 1\n",
    "alpha_b = 1\n",
    "alpha_decay_a = num_train_games\n",
    "alpha_decay_b = num_train_games\n",
    "epsilon_a = 0.1\n",
    "epsilon_b = 0.1\n",
    "epsilon_decay_a = num_train_games\n",
    "epsilon_decay_b = num_train_games\n",
    "moving_average = 300"
   ]
  },
  {
   "cell_type": "code",
   "execution_count": null,
   "metadata": {},
   "outputs": [],
   "source": [
    "print(\"player a1 trains with player b1\")\n",
    "name_value_function_a = \"a_1\"\n",
    "name_value_function_b = \"b_1\"\n",
    "stats = train_test_session(num_train_games=num_train_games,\n",
    "                           num_test_games=num_test_games,\n",
    "                           value_function_a=value_function_a,\n",
    "                           value_function_b=value_function_b,\n",
    "                           alpha_a=alpha_a,\n",
    "                           alpha_b=alpha_b,\n",
    "                           alpha_decay_a=alpha_decay_a,\n",
    "                           alpha_decay_b=alpha_decay_b,\n",
    "                           epsilon_a=epsilon_a,\n",
    "                           epsilon_b=epsilon_b,\n",
    "                           epsilon_decay_a=epsilon_decay_a,\n",
    "                           epsilon_decay_b=epsilon_decay_b,\n",
    "                           name_value_function_a=name_value_function_a,\n",
    "                           name_value_function_b=name_value_function_b,\n",
    "                           moving_average=moving_average,\n",
    "                           save=True,\n",
    "                           show_plot=False\n",
    "                           )\n",
    "\n",
    "print(\"player a2 trains with player b2\")\n",
    "name_value_function_a = \"a_2\"\n",
    "name_value_function_b = \"b_2\"\n",
    "stats = train_test_session(num_train_games=num_train_games,\n",
    "                           num_test_games=num_test_games,\n",
    "                           value_function_a=value_function_a,\n",
    "                           value_function_b=value_function_b,\n",
    "                           alpha_a=alpha_a,\n",
    "                           alpha_b=alpha_b,\n",
    "                           alpha_decay_a=alpha_decay_a,\n",
    "                           alpha_decay_b=alpha_decay_b,\n",
    "                           epsilon_a=epsilon_a,\n",
    "                           epsilon_b=epsilon_b,\n",
    "                           epsilon_decay_a=epsilon_decay_a,\n",
    "                           epsilon_decay_b=epsilon_decay_b,\n",
    "                           name_value_function_a=name_value_function_a,\n",
    "                           name_value_function_b=name_value_function_b,\n",
    "                           moving_average=moving_average,\n",
    "                           save=True,\n",
    "                           show_plot=False\n",
    "                           )"
   ]
  },
  {
   "cell_type": "code",
   "execution_count": null,
   "metadata": {},
   "outputs": [],
   "source": [
    "num_train_games = 0\n",
    "num_test_games = 10000\n",
    "moving_average = 2"
   ]
  },
  {
   "cell_type": "code",
   "execution_count": null,
   "metadata": {},
   "outputs": [],
   "source": [
    "print(\"player a1 vs player b2\")\n",
    "value_function_a = \"a_1\"\n",
    "value_function_b = \"b_2\"\n",
    "stats = train_test_session(num_train_games=num_train_games,\n",
    "                           num_test_games=num_test_games,\n",
    "                           value_function_a=value_function_a,\n",
    "                           value_function_b=value_function_b,\n",
    "                           moving_average=moving_average,\n",
    "                           )\n",
    "print(\"player a2 vs player b1\")\n",
    "value_function_a = \"a_2\"\n",
    "value_function_b = \"b_1\"\n",
    "stats = train_test_session(num_train_games=num_train_games,\n",
    "                           num_test_games=num_test_games,\n",
    "                           value_function_a=value_function_a,\n",
    "                           value_function_b=value_function_b,\n",
    "                           moving_average=moving_average,\n",
    "                           )\n",
    "print(\"player a1 vs player a2\")\n",
    "value_function_a = \"a_1\"\n",
    "value_function_b = \"a_2\"\n",
    "stats = train_test_session(num_train_games=num_train_games,\n",
    "                           num_test_games=num_test_games,\n",
    "                           value_function_a=value_function_a,\n",
    "                           value_function_b=value_function_b,\n",
    "                           moving_average=moving_average,\n",
    "                           )\n",
    "print(\"player b1 vs player b2\")\n",
    "value_function_a = \"b_1\"\n",
    "value_function_b = \"b_2\"\n",
    "stats = train_test_session(num_train_games=num_train_games,\n",
    "                           num_test_games=num_test_games,\n",
    "                           value_function_a=value_function_a,\n",
    "                           value_function_b=value_function_b,\n",
    "                           moving_average=moving_average,\n",
    "                           )"
   ]
  },
  {
   "cell_type": "code",
   "execution_count": null,
   "metadata": {},
   "outputs": [],
   "source": [
    "# DONE: learning_rate alpha and exploration_factor epsilon should be decreasing over time (add some hyperparameters to the decay functions and find optimum)\n",
    "# DONE: hyperparameter tuning\n",
    "# DONE: once optimal value function(s) is (are) found, save it (them)\n",
    "# implement user interface to play against saved value-functions\n",
    "# optional: (implement different learning algorithm (Q-learning/SARSA/...))\n",
    "# optional: (hp optimization)\n",
    "# optional: (create plots to compare algorithms (training time (in seconds, moves & games), performance against each other))\n",
    "# DONE: comment code\n",
    "# Slides"
   ]
  },
  {
   "cell_type": "code",
   "execution_count": null,
   "metadata": {},
   "outputs": [],
   "source": [
    "def plot_winrate(winrate_a, winrate_b, label_a, label_b):\n",
    "    fig, ax = plt.subplots()\n",
    "    ax.plot(winrate_a, label=label_a)\n",
    "    ax.plot(winrate_b, label=label_b)\n",
    "    ax.yaxis.set_major_formatter(mtick.PercentFormatter(1.0, decimals=0))\n",
    "    ax.set_xlabel(\"games\")\n",
    "    ax.set_ylabel(\"winrate\")\n",
    "    ax.legend()\n",
    "    plt.show()"
   ]
  }
 ],
 "metadata": {
  "kernelspec": {
   "display_name": "Python 3",
   "language": "python",
   "name": "python3"
  },
  "language_info": {
   "codemirror_mode": {
    "name": "ipython",
    "version": 3
   },
   "file_extension": ".py",
   "mimetype": "text/x-python",
   "name": "python",
   "nbconvert_exporter": "python",
   "pygments_lexer": "ipython3",
   "version": "3.8.5"
  }
 },
 "nbformat": 4,
 "nbformat_minor": 4
}
